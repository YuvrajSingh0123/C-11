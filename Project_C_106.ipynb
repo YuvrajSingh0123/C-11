{
  "nbformat": 4,
  "nbformat_minor": 0,
  "metadata": {
    "colab": {
      "provenance": [],
      "authorship_tag": "ABX9TyPUObIjbVpKeFV6npEDkMZc",
      "include_colab_link": true
    },
    "kernelspec": {
      "name": "python3",
      "display_name": "Python 3"
    },
    "language_info": {
      "name": "python"
    }
  },
  "cells": [
    {
      "cell_type": "markdown",
      "metadata": {
        "id": "view-in-github",
        "colab_type": "text"
      },
      "source": [
        "<a href=\"https://colab.research.google.com/github/YuvrajSingh0123/C-11/blob/main/Project_C_106.ipynb\" target=\"_parent\"><img src=\"https://colab.research.google.com/assets/colab-badge.svg\" alt=\"Open In Colab\"/></a>"
      ]
    },
    {
      "cell_type": "code",
      "execution_count": null,
      "metadata": {
        "id": "nLtb6vwZw_M7"
      },
      "outputs": [],
      "source": [
        "l=int(input(\"Enter your lower limit\"))\n",
        "u=int(input(\"Enter your upper limit\"))\n",
        "for e in range(l,u):\n",
        "  if(e % 4==0):\n",
        "    print(e)"
      ]
    }
  ]
}